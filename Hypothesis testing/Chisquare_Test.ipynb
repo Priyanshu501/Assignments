{
 "cells": [
  {
   "cell_type": "markdown",
   "metadata": {},
   "source": [
    "# Chi-Square Test\n",
    "\n",
    "## Association between Device Type and Customer Satisfaction\n",
    "\n",
    "## Background:\n",
    "\n",
    "Mizzare Corporation has collected data on customer satisfaction levels for two types of smart home devices: Smart Thermostats and Smart Lights. They want to determine if there's a significant association between the type of device purchased and the customer's satisfaction level."
   ]
  },
  {
   "cell_type": "markdown",
   "metadata": {},
   "source": [
    "## Data Provided:\n",
    "\n",
    "The data is summarized in a contingency table showing the counts of customers in each satisfaction level for both types of devices:\n",
    "\n",
    "<table border=\"1\">\n",
    "  <tr>\n",
    "    <th>Satisfaction</th>\n",
    "    <th>Smart Thermostat</th>\n",
    "    <th>Smart Light</th>\n",
    "    <th>Total</th>\n",
    "  </tr>\n",
    "  <tr>\n",
    "    <td>Very Satisfied</td>\n",
    "    <td>50</td>\n",
    "    <td>70</td>\n",
    "    <td>120</td>\n",
    "  </tr>\n",
    "  <tr>\n",
    "    <td>Satisfied</td>\n",
    "    <td>80</td>\n",
    "    <td>100</td>\n",
    "    <td>180</td>\n",
    "  </tr>\n",
    "  <tr>\n",
    "    <td>Neutral</td>\n",
    "    <td>60</td>\n",
    "    <td>90</td>\n",
    "    <td>150</td>\n",
    "  </tr>\n",
    "  <tr>\n",
    "    <td>Unsatisfied</td>\n",
    "    <td>30</td>\n",
    "    <td>50</td>\n",
    "    <td>80</td>\n",
    "  </tr>\n",
    "  <tr>\n",
    "    <td>Very Unsatisfied</td>\n",
    "    <td>20</td>\n",
    "    <td>50</td>\n",
    "    <td>70</td>\n",
    "  </tr>\n",
    "  <tr>\n",
    "    <td>Total</td>\n",
    "    <td>240</td>\n",
    "    <td>360</td>\n",
    "    <td>600</td>\n",
    "  </tr>\n",
    "</table>"
   ]
  },
  {
   "cell_type": "code",
   "execution_count": 1,
   "metadata": {},
   "outputs": [],
   "source": [
    "import numpy as np"
   ]
  },
  {
   "cell_type": "code",
   "execution_count": 2,
   "metadata": {},
   "outputs": [],
   "source": [
    "# Given Data\n",
    "observed = np.array([\n",
    "    [50, 70],\n",
    "    [80, 100],\n",
    "    [60, 90],\n",
    "    [30, 50],\n",
    "    [20, 50]\n",
    "])"
   ]
  },
  {
   "cell_type": "markdown",
   "metadata": {},
   "source": [
    "## Objective:\n",
    "\n",
    "To use the Chi-Square test for independence to determine if there's a significant association between the type of smart home device purchased (Smart Thermostats vs. Smart Lights) and the customer satisfaction level."
   ]
  },
  {
   "cell_type": "markdown",
   "metadata": {},
   "source": [
    "## Assignment Tasks:\n",
    "\n",
    "### 1. State the Hypothesis:\n",
    "\n",
    "Null Hypothesis (H0): There is no assocication between the type of device and customer satisfaction level.\n",
    "\n",
    "Alternative Hypothesis (H1): There is an association between the type of device and customer satisfaction level."
   ]
  },
  {
   "cell_type": "markdown",
   "metadata": {},
   "source": [
    "### 2. Compute the Chi-Square Statistic:"
   ]
  },
  {
   "cell_type": "code",
   "execution_count": 3,
   "metadata": {},
   "outputs": [],
   "source": [
    "from scipy.stats import chi2_contingency"
   ]
  },
  {
   "cell_type": "code",
   "execution_count": 13,
   "metadata": {},
   "outputs": [],
   "source": [
    "chi2 = chi2_contingency(observed).statistic"
   ]
  },
  {
   "cell_type": "markdown",
   "metadata": {},
   "source": [
    "### 3. Determine the Critical Value:\n",
    "\n",
    "Using the significance level (alpha) of 0.05 and the degrees of freedom (which is the number of categories minus 1)"
   ]
  },
  {
   "cell_type": "code",
   "execution_count": 14,
   "metadata": {},
   "outputs": [],
   "source": [
    "degrees_of_freedom = (observed.shape[0] - 1) * (observed.shape[1] - 1)\n",
    "alpha = 0.05\n",
    "critical_value = chi2_contingency().pvalue"
   ]
  },
  {
   "cell_type": "markdown",
   "metadata": {},
   "source": [
    "### 4. Make a Decision:\n",
    "\n",
    "Compare the Chi-Square statistic with the critical value to decide whether to reject the null hypothesis."
   ]
  },
  {
   "cell_type": "code",
   "execution_count": 16,
   "metadata": {},
   "outputs": [],
   "source": [
    "# If the chi-square statistic is greater than the critical value, reject the null hypothesis.\n",
    "# Else, fail to reject the null hypothesis.\n",
    "\n",
    "if chi2 > critical_value:\n",
    "    decision = \"Reject the null hypothesis.\" \n",
    "else:\n",
    "    decision = \"Fail to reject the null hypotheis.\""
   ]
  },
  {
   "cell_type": "markdown",
   "metadata": {},
   "source": [
    "### 5. Conclusion:"
   ]
  },
  {
   "cell_type": "code",
   "execution_count": 19,
   "metadata": {},
   "outputs": [],
   "source": [
    "if chi2 > critical_value:\n",
    "    conclusion = \"\\nThere is a significant association between \\nthe type of smart home device purchased and the customer satisfaction level.\"\n",
    "else:\n",
    "    conclusion = \"\\nThere is no significant association between \\nthe type of smart home device purchased and the customer satisfaction level.\""
   ]
  },
  {
   "cell_type": "markdown",
   "metadata": {},
   "source": [
    "#### Result:"
   ]
  },
  {
   "cell_type": "code",
   "execution_count": 24,
   "metadata": {},
   "outputs": [
    {
     "name": "stdout",
     "output_type": "stream",
     "text": [
      "Chi-Square Statistic: 5.638227513227513\n",
      "Degrees of Freedom: 4\n",
      "Critical Value: 0.22784371130697179\n",
      "Decision: Reject the null hypothesis.\n",
      "Conclusion: \n",
      "There is a significant association between \n",
      "the type of smart home device purchased and the customer satisfaction level.\n"
     ]
    }
   ],
   "source": [
    "print(f'Chi-Square Statistic: {chi2}')\n",
    "print(f'Degrees of Freedom: {degrees_of_freedom}')\n",
    "print(f'Critical Value: {critical_value}')\n",
    "print(f'Decision: {decision}')\n",
    "print(f'Conclusion: {conclusion}')"
   ]
  }
 ],
 "metadata": {
  "kernelspec": {
   "display_name": "analytics",
   "language": "python",
   "name": "python3"
  },
  "language_info": {
   "codemirror_mode": {
    "name": "ipython",
    "version": 3
   },
   "file_extension": ".py",
   "mimetype": "text/x-python",
   "name": "python",
   "nbconvert_exporter": "python",
   "pygments_lexer": "ipython3",
   "version": "3.11.5"
  }
 },
 "nbformat": 4,
 "nbformat_minor": 2
}
