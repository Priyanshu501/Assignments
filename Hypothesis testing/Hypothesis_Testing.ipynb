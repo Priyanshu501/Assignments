{
 "cells": [
  {
   "cell_type": "markdown",
   "metadata": {},
   "source": [
    "# Hypothesis Testing\n",
    "\n",
    "## Background\n",
    "\n",
    "Bombay hospitality Ltd. operates a franchise model for producing exotic Norwegian dinners throughout New England. The operating cost for a franchise in a week (W) is given by the equation W = $1,000 + $5X, where X represents the number of units produced in a week. Recent feedback from restaurant owners suggests that this cost model may no longer be accurate, as their observed weekly operating costs are higher.\n",
    "\n",
    "## Objective\n",
    "\n",
    "To investigate the restaurant owners' claim about the increase in weekly operating costs using hypothesis testing."
   ]
  },
  {
   "cell_type": "markdown",
   "metadata": {},
   "source": [
    "## Data Provided\n",
    "\n",
    "* The theoretical weekly operating cost model: W = $1,000 + $5X\n",
    "* Sample of 25 restaurants with a mean weekly cost of Rs. 3,050\n",
    "* Number of units produced in a week (X) follows a normal distribution with a mean (μ) of 600 units and a standard deviation (σ) of 25 units\n"
   ]
  },
  {
   "cell_type": "code",
   "execution_count": 35,
   "metadata": {},
   "outputs": [],
   "source": [
    "# Given Data\n",
    "sample_mean = 3050 # Sample mean weekly cost (in Rupees)\n",
    "theoretical_mean = 1000 + 5 * 600 # Theorectical mean weekly cost according to the cost model (in Rupees)\n",
    "population_std = 5 * 25 # Standard Deviation of the Population (in Rupees)\n",
    "sample_size = 25 # Sample Size\n",
    "alpha = 0.05 # Standard Alpha Level"
   ]
  },
  {
   "cell_type": "markdown",
   "metadata": {},
   "source": [
    "## Assignmet Tasks:\n",
    "\n",
    "### 1. State the Hypothesis Statement:"
   ]
  },
  {
   "cell_type": "markdown",
   "metadata": {},
   "source": [
    "Null Hypothesis (H0): The mean weekly operating cost is equal to the theoretical mean.\n",
    "\n",
    "Alternative Hypothesis (H1): The mean weekly operating cost is higher than the theoretical mean."
   ]
  },
  {
   "cell_type": "markdown",
   "metadata": {},
   "source": [
    "### 2. Calculate the Test Statistic:\n",
    "\n",
    "Use the following formula to calculate the test statistic (t):\n",
    "where:\n",
    "* ˉxˉ = sample mean weekly cost (Rs. 3,050)\n",
    "* μ = theoretical mean weekly cost according to the cost model (W = $1,000 + $5X for X = 600 units)\n",
    "* σ = 5*25 units\n",
    "* n = sample size (25 restaurants)\n"
   ]
  },
  {
   "cell_type": "code",
   "execution_count": 36,
   "metadata": {},
   "outputs": [],
   "source": [
    "import numpy as np"
   ]
  },
  {
   "cell_type": "code",
   "execution_count": 37,
   "metadata": {},
   "outputs": [],
   "source": [
    "standard_error = population_std / np.sqrt(sample_size)\n",
    "t_statistic = (sample_mean - theoretical_mean) / standard_error"
   ]
  },
  {
   "cell_type": "markdown",
   "metadata": {},
   "source": [
    "### 3. Determine the Critical Value:\n",
    "\n",
    "Using the alpha level of 5% (α = 0.05), determine the critical value from the standard normal (Z) distribution table."
   ]
  },
  {
   "cell_type": "code",
   "execution_count": 38,
   "metadata": {},
   "outputs": [],
   "source": [
    "from scipy.stats import norm"
   ]
  },
  {
   "cell_type": "code",
   "execution_count": 39,
   "metadata": {},
   "outputs": [],
   "source": [
    "critical_value = norm.ppf(1 - alpha)"
   ]
  },
  {
   "cell_type": "markdown",
   "metadata": {},
   "source": [
    "### 4. Make a Decision:\n",
    "\n",
    "Compare the test statistic with the critical value to decide whether to reject the null hypothesis."
   ]
  },
  {
   "cell_type": "code",
   "execution_count": 40,
   "metadata": {},
   "outputs": [],
   "source": [
    "# If the absolute value of the test statistic is greater than the critical value, reject the null hypothesis.\n",
    "# Else, fail to reject the null hypothesis.\n",
    "\n",
    "if t_statistic > critical_value:\n",
    "    decision = \"Reject the null hypothesis\" \n",
    "else:\n",
    "    decision = \"Fail to reject the null hypothesis.\""
   ]
  },
  {
   "cell_type": "markdown",
   "metadata": {},
   "source": [
    "### 5. Conclusion:\n",
    "\n",
    "Based on the decision in step 4, conclude whether there is strong evidence to support the restaurant owners' claim that the weekly operating costs are higher than the model suggests."
   ]
  },
  {
   "cell_type": "code",
   "execution_count": 41,
   "metadata": {},
   "outputs": [],
   "source": [
    "if t_statistic > critical_value:\n",
    "    conclusion = \"\\nThere is strong evidence to support the restaurant owner's claim that \\nthe weekly operating costs are higher than the model suggests.\"\n",
    "else:\n",
    "    conclusion = \"\\nThere is not enough evidence to support the restaurant owner's claim \\nthat the weekly operating costs are higher than the model suggests.\""
   ]
  },
  {
   "cell_type": "markdown",
   "metadata": {},
   "source": [
    "#### Results"
   ]
  },
  {
   "cell_type": "code",
   "execution_count": 42,
   "metadata": {},
   "outputs": [
    {
     "name": "stdout",
     "output_type": "stream",
     "text": [
      "Test Statistic (t): -38.0\n",
      "Critical Value: 1.6448536269514722\n",
      "Decision: Fail to reject the null hypothesis.\n",
      "Conslusion: \n",
      "There is not enough evidence to support the restaurant owner's claim \n",
      "that the weekly operating costs are higher than the model suggests.\n"
     ]
    }
   ],
   "source": [
    "print(f\"Test Statistic (t): {t_statistic}\")\n",
    "print(f\"Critical Value: {critical_value}\")\n",
    "print(f\"Decision: {decision}\")\n",
    "print(f\"Conslusion: {conclusion}\")"
   ]
  }
 ],
 "metadata": {
  "kernelspec": {
   "display_name": "analytics",
   "language": "python",
   "name": "python3"
  },
  "language_info": {
   "codemirror_mode": {
    "name": "ipython",
    "version": 3
   },
   "file_extension": ".py",
   "mimetype": "text/x-python",
   "name": "python",
   "nbconvert_exporter": "python",
   "pygments_lexer": "ipython3",
   "version": "3.11.5"
  }
 },
 "nbformat": 4,
 "nbformat_minor": 2
}
