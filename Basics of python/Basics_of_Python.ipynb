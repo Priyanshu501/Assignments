{
 "cells": [
  {
   "cell_type": "code",
   "execution_count": 50,
   "metadata": {},
   "outputs": [
    {
     "name": "stdout",
     "output_type": "stream",
     "text": [
      "User Input: 10\n",
      "10 is not a prime number.\n"
     ]
    }
   ],
   "source": [
    "def is_prime(num):\n",
    "    if num > 1:\n",
    "        for i in range(2, num):\n",
    "            if (num % i) == 0:\n",
    "                return f'is not a prime number.'\n",
    "        return f\"is a Prime Number\"\n",
    "    else:\n",
    "        return f\"is not a prime number\"    \n",
    "\n",
    "num = int(input(\"Enter a number to check if it is a prime number or not: \"))\n",
    "print(f'User Input: {num}')\n",
    "print(f'{num} ' + is_prime(num))\n",
    "     "
   ]
  },
  {
   "cell_type": "code",
   "execution_count": 44,
   "metadata": {},
   "outputs": [
    {
     "name": "stdout",
     "output_type": "stream",
     "text": [
      "User Input:\n",
      " 5 * 3 = 5\n",
      "\n",
      "Incorrect Input! Correct answer is 15.\n"
     ]
    }
   ],
   "source": [
    "import random\n",
    "\n",
    "num1 = random.randint(1, 10)\n",
    "num2 = random.randint(1, 10)\n",
    "\n",
    "#print({int(input())}\")\n",
    "user_input = int(input(f\"Enter Product for {num1} * {num2} = \"))\n",
    "print(f'User Input:\\n {num1} * {num2} = {user_input}')\n",
    "\n",
    "if user_input == (num1 * num2):\n",
    "    print(f\"\\nYou have entered correct answer!\")\n",
    "else:\n",
    "    print(f'\\nIncorrect Input! Correct answer is {num1 * num2}.')"
   ]
  },
  {
   "cell_type": "code",
   "execution_count": null,
   "metadata": {},
   "outputs": [],
   "source": []
  }
 ],
 "metadata": {
  "kernelspec": {
   "display_name": "analytics",
   "language": "python",
   "name": "python3"
  },
  "language_info": {
   "codemirror_mode": {
    "name": "ipython",
    "version": 3
   },
   "file_extension": ".py",
   "mimetype": "text/x-python",
   "name": "python",
   "nbconvert_exporter": "python",
   "pygments_lexer": "ipython3",
   "version": "3.11.5"
  }
 },
 "nbformat": 4,
 "nbformat_minor": 2
}
