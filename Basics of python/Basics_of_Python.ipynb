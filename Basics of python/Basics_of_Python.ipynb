{
 "cells": [
  {
   "cell_type": "markdown",
   "metadata": {},
   "source": [
    "# Python Programming Assignment\n",
    "\n",
    "## Coding Exercises"
   ]
  },
  {
   "cell_type": "markdown",
   "metadata": {},
   "source": [
    "#### Exercise 1: Prime Numbers\n",
    "\n",
    "Write a Python program that checks whether a given number is prime or not. A prime number is a natural number greater than 1 that has no positive divisors other than 1 and itself."
   ]
  },
  {
   "cell_type": "code",
   "execution_count": 205,
   "metadata": {},
   "outputs": [],
   "source": [
    "'''Function to Check if Number is Prime or Not'''\n",
    "def is_prime(num):\n",
    "    # Checking is input is Natural Number or Not\n",
    "    if num > 1:\n",
    "        # Checkin if Number is Divisible by any number less that it.\n",
    "        for i in range(2, num):\n",
    "            # If Yes, then it is not a prime number.\n",
    "            if (num % i) == 0:\n",
    "                return f'is not a prime number.'\n",
    "        # Else it is a prime number.\n",
    "        return f\"is a Prime Number\"\n",
    "    # If input number is not a natural number then it is definitely not a prime number.\n",
    "    else:\n",
    "        return f\"is not a prime number\"        "
   ]
  },
  {
   "cell_type": "code",
   "execution_count": 206,
   "metadata": {},
   "outputs": [
    {
     "name": "stdout",
     "output_type": "stream",
     "text": [
      "User Input: 2\n",
      "2 is a Prime Number\n"
     ]
    }
   ],
   "source": [
    "# Passing user input number to the Function.\n",
    "num = int(input(\"Enter a number to check if it is a prime number or not: \"))\n",
    "print(f'User Input: {num}')\n",
    "print(f'{num} ' + is_prime(num))"
   ]
  },
  {
   "cell_type": "markdown",
   "metadata": {},
   "source": [
    "#### Exercise 2: Product of Random Numbers\n",
    "\n",
    "Develop a Python program that generates two random numbers and asks the user to enter the product of these numbers. The program should then check if the user's answer is correct and display an appropriate message."
   ]
  },
  {
   "cell_type": "code",
   "execution_count": 207,
   "metadata": {},
   "outputs": [
    {
     "name": "stdout",
     "output_type": "stream",
     "text": [
      "User Input:\n",
      " 8 * 5 = 40\n",
      "\n",
      "You have entered correct answer!\n"
     ]
    }
   ],
   "source": [
    "import random\n",
    "\n",
    "# Getting Two Number Randomly.\n",
    "num1 = random.randint(1, 10)\n",
    "num2 = random.randint(1, 10)\n",
    "\n",
    "# Taking User Input.\n",
    "user_input = int(input(f\"Enter Product for {num1} * {num2} = \"))\n",
    "\n",
    "# Printing User Input.\n",
    "print(f'User Input:\\n {num1} * {num2} = {user_input}')\n",
    "\n",
    "# Checking If user has entered correct answer or not.\n",
    "if user_input == (num1 * num2):\n",
    "    print(f\"\\nYou have entered correct answer!\")\n",
    "else:\n",
    "    print(f'\\nIncorrect Input! Correct answer is {num1 * num2}.')"
   ]
  },
  {
   "cell_type": "markdown",
   "metadata": {},
   "source": [
    "#### Exercise 3: Squares of Even/Odd Numbers\n",
    "\n",
    "Create a Python script that prints the squares of all even or odd numbers within the range of 100 to 200. Choose either even or odd numbers and document your choice in the code."
   ]
  },
  {
   "cell_type": "code",
   "execution_count": 208,
   "metadata": {},
   "outputs": [
    {
     "name": "stdout",
     "output_type": "stream",
     "text": [
      "Type 'even' or 'odd':\n",
      "You have Entered: odd\n",
      "\n",
      "101 ** 2 = 10201\n",
      "103 ** 2 = 10609\n",
      "105 ** 2 = 11025\n",
      "107 ** 2 = 11449\n",
      "109 ** 2 = 11881\n",
      "111 ** 2 = 12321\n",
      "113 ** 2 = 12769\n",
      "115 ** 2 = 13225\n",
      "117 ** 2 = 13689\n",
      "119 ** 2 = 14161\n",
      "121 ** 2 = 14641\n",
      "123 ** 2 = 15129\n",
      "125 ** 2 = 15625\n",
      "127 ** 2 = 16129\n",
      "129 ** 2 = 16641\n",
      "131 ** 2 = 17161\n",
      "133 ** 2 = 17689\n",
      "135 ** 2 = 18225\n",
      "137 ** 2 = 18769\n",
      "139 ** 2 = 19321\n",
      "141 ** 2 = 19881\n",
      "143 ** 2 = 20449\n",
      "145 ** 2 = 21025\n",
      "147 ** 2 = 21609\n",
      "149 ** 2 = 22201\n",
      "151 ** 2 = 22801\n",
      "153 ** 2 = 23409\n",
      "155 ** 2 = 24025\n",
      "157 ** 2 = 24649\n",
      "159 ** 2 = 25281\n",
      "161 ** 2 = 25921\n",
      "163 ** 2 = 26569\n",
      "165 ** 2 = 27225\n",
      "167 ** 2 = 27889\n",
      "169 ** 2 = 28561\n",
      "171 ** 2 = 29241\n",
      "173 ** 2 = 29929\n",
      "175 ** 2 = 30625\n",
      "177 ** 2 = 31329\n",
      "179 ** 2 = 32041\n",
      "181 ** 2 = 32761\n",
      "183 ** 2 = 33489\n",
      "185 ** 2 = 34225\n",
      "187 ** 2 = 34969\n",
      "189 ** 2 = 35721\n",
      "191 ** 2 = 36481\n",
      "193 ** 2 = 37249\n",
      "195 ** 2 = 38025\n",
      "197 ** 2 = 38809\n",
      "199 ** 2 = 39601\n"
     ]
    }
   ],
   "source": [
    "print(\"Type 'even' or 'odd':\")\n",
    "\n",
    "# Taking User Input.\n",
    "user_input = input('Enter your Choice: ')\n",
    "print(f'You have Entered: {user_input}\\n')\n",
    "\n",
    "# Condition if User's choice is EVEN.\n",
    "if user_input.lower() == 'even':\n",
    "   for i in range(100, 200, 2): \n",
    "      print(f'{i} ** 2 = {i**2}')\n",
    "\n",
    "# Condition if User's choice is ODD.\n",
    "if user_input.lower() == 'odd':\n",
    "   for i in range(101, 200, 2):\n",
    "      print(f'{i} ** 2 = {i**2}')"
   ]
  },
  {
   "cell_type": "markdown",
   "metadata": {},
   "source": [
    "#### Exercise 4: Word Counter\n",
    "\n",
    "Write a program to count the number of words in a given text.\n",
    "\n",
    "Example:\n",
    "\n",
    "input_text = \"This is a sample text. This text will be used to demonstrate the word counter.\"\\\n",
    "Expected output:\\\n",
    "'This': 2 \\\n",
    "'is': 1\\\n",
    "'a': 1\\\n",
    "'sample': 1\\\n",
    "'text.': 1"
   ]
  },
  {
   "cell_type": "code",
   "execution_count": 210,
   "metadata": {},
   "outputs": [
    {
     "name": "stdout",
     "output_type": "stream",
     "text": [
      "Word Counts:\n",
      "\n",
      "this : 2\n",
      "is : 1\n",
      "a : 1\n",
      "sample : 1\n",
      "text : 2\n",
      "will : 1\n",
      "be : 1\n",
      "used : 1\n",
      "to : 1\n",
      "demonstrate : 1\n",
      "the : 1\n",
      "word : 1\n",
      "counter : 1\n"
     ]
    }
   ],
   "source": [
    "# Sample Input.\n",
    "input_text = \"This is a sample text. This text will be used to demonstrate the word counter.\"\n",
    "\n",
    "# Spliting Words by \" \" (Empty Space)\n",
    "words = input_text.split(' ')\n",
    "\n",
    "# Dictionary to store the counts.\n",
    "word_count = {}\n",
    "for word in words:\n",
    "    # Removing Puntuation Marks.\n",
    "    cleaned = word.strip('.,!?').lower()\n",
    "    # Checking if a particular word is already in the dictionary.\n",
    "    if cleaned in list(word_count.keys()):\n",
    "        # If Yes, then the value is incremented by 1.\n",
    "        word_count[cleaned] = word_count[cleaned] + 1\n",
    "    else:\n",
    "        # If Now, then it is added to the dictionary with value 1.\n",
    "        word_count.update({cleaned:1})\n",
    "\n",
    "# Printing Final Result.\n",
    "print('Word Counts:\\n')\n",
    "for i in word_count.keys():\n",
    "    print(f'{str(i)} : {word_count[i]}')"
   ]
  },
  {
   "cell_type": "markdown",
   "metadata": {},
   "source": [
    "#### Exercise 5: Check for Palindrome\n",
    "\n",
    "Write a Python function called is_palindrome that takes a string as input and returns True if the string is a palindrome, and False otherwise. A palindrome is a word, phrase, number, or other sequence of characters that reads the same forward and backward, ignoring spaces, punctuation, and capitalization.\n",
    "\n",
    "Example:\\\n",
    "Input: \"racecar\"\\\n",
    "Expected Output: True\n"
   ]
  },
  {
   "cell_type": "code",
   "execution_count": 211,
   "metadata": {},
   "outputs": [],
   "source": [
    "'''Function to check if the input string is a palindrome or Not.'''\n",
    "def is_palindrome(input_string):\n",
    "\n",
    "    # Removing all the puntuation marks and converting every word to lower case.\n",
    "    s = ''.join(char.lower() for char in input_string if char.isalnum())\n",
    "\n",
    "    # Returning a Boolean Value by comparing the origing string to its reverse.\n",
    "    return s == s[::-1]"
   ]
  },
  {
   "cell_type": "code",
   "execution_count": 212,
   "metadata": {},
   "outputs": [
    {
     "name": "stdout",
     "output_type": "stream",
     "text": [
      "True\n"
     ]
    }
   ],
   "source": [
    "# Sample Input.\n",
    "input_word = \"racecar\"\n",
    "\n",
    "# Calling Function and Printing Result.\n",
    "print(is_palindrome(input_word))"
   ]
  }
 ],
 "metadata": {
  "kernelspec": {
   "display_name": "analytics",
   "language": "python",
   "name": "python3"
  },
  "language_info": {
   "codemirror_mode": {
    "name": "ipython",
    "version": 3
   },
   "file_extension": ".py",
   "mimetype": "text/x-python",
   "name": "python",
   "nbconvert_exporter": "python",
   "pygments_lexer": "ipython3",
   "version": "3.11.5"
  }
 },
 "nbformat": 4,
 "nbformat_minor": 2
}
