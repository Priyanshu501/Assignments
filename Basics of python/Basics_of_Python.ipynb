{
 "cells": [
  {
   "cell_type": "code",
   "execution_count": 50,
   "metadata": {},
   "outputs": [
    {
     "name": "stdout",
     "output_type": "stream",
     "text": [
      "User Input: 10\n",
      "10 is not a prime number.\n"
     ]
    }
   ],
   "source": [
    "def is_prime(num):\n",
    "    if num > 1:\n",
    "        for i in range(2, num):\n",
    "            if (num % i) == 0:\n",
    "                return f'is not a prime number.'\n",
    "        return f\"is a Prime Number\"\n",
    "    else:\n",
    "        return f\"is not a prime number\"    \n",
    "\n",
    "num = int(input(\"Enter a number to check if it is a prime number or not: \"))\n",
    "print(f'User Input: {num}')\n",
    "print(f'{num} ' + is_prime(num))\n",
    "     "
   ]
  },
  {
   "cell_type": "code",
   "execution_count": 44,
   "metadata": {},
   "outputs": [
    {
     "name": "stdout",
     "output_type": "stream",
     "text": [
      "User Input:\n",
      " 5 * 3 = 5\n",
      "\n",
      "Incorrect Input! Correct answer is 15.\n"
     ]
    }
   ],
   "source": [
    "import random\n",
    "\n",
    "num1 = random.randint(1, 10)\n",
    "num2 = random.randint(1, 10)\n",
    "\n",
    "#print({int(input())}\")\n",
    "user_input = int(input(f\"Enter Product for {num1} * {num2} = \"))\n",
    "print(f'User Input:\\n {num1} * {num2} = {user_input}')\n",
    "\n",
    "if user_input == (num1 * num2):\n",
    "    print(f\"\\nYou have entered correct answer!\")\n",
    "else:\n",
    "    print(f'\\nIncorrect Input! Correct answer is {num1 * num2}.')"
   ]
  },
  {
   "cell_type": "code",
   "execution_count": 62,
   "metadata": {},
   "outputs": [
    {
     "name": "stdout",
     "output_type": "stream",
     "text": [
      "Type 'even' or 'odd':\n",
      "You have Entered: even\n",
      "2 ** 2 = 4\n",
      "4 ** 2 = 16\n",
      "6 ** 2 = 36\n",
      "8 ** 2 = 64\n",
      "10 ** 2 = 100\n",
      "12 ** 2 = 144\n",
      "14 ** 2 = 196\n",
      "16 ** 2 = 256\n",
      "18 ** 2 = 324\n",
      "20 ** 2 = 400\n",
      "22 ** 2 = 484\n",
      "24 ** 2 = 576\n",
      "26 ** 2 = 676\n",
      "28 ** 2 = 784\n",
      "30 ** 2 = 900\n",
      "32 ** 2 = 1024\n",
      "34 ** 2 = 1156\n",
      "36 ** 2 = 1296\n",
      "38 ** 2 = 1444\n",
      "40 ** 2 = 1600\n",
      "42 ** 2 = 1764\n",
      "44 ** 2 = 1936\n",
      "46 ** 2 = 2116\n",
      "48 ** 2 = 2304\n",
      "50 ** 2 = 2500\n",
      "52 ** 2 = 2704\n",
      "54 ** 2 = 2916\n",
      "56 ** 2 = 3136\n",
      "58 ** 2 = 3364\n",
      "60 ** 2 = 3600\n",
      "62 ** 2 = 3844\n",
      "64 ** 2 = 4096\n",
      "66 ** 2 = 4356\n",
      "68 ** 2 = 4624\n",
      "70 ** 2 = 4900\n",
      "72 ** 2 = 5184\n",
      "74 ** 2 = 5476\n",
      "76 ** 2 = 5776\n",
      "78 ** 2 = 6084\n",
      "80 ** 2 = 6400\n",
      "82 ** 2 = 6724\n",
      "84 ** 2 = 7056\n",
      "86 ** 2 = 7396\n",
      "88 ** 2 = 7744\n",
      "90 ** 2 = 8100\n",
      "92 ** 2 = 8464\n",
      "94 ** 2 = 8836\n",
      "96 ** 2 = 9216\n",
      "98 ** 2 = 9604\n"
     ]
    }
   ],
   "source": [
    "print(\"Type 'even' or 'odd':\")\n",
    "user_input = input('Enter your Choice: ')\n",
    "print(f'You have Entered: {user_input}')\n",
    "if user_input.lower() == 'even':\n",
    "   for i in range(2, 100, 2): \n",
    "      print(f'{i} ** 2 = {i**2}')\n",
    "if user_input.lower() == 'odd':\n",
    "   for i in range(1, 100, 2):\n",
    "      print(f'{i} ** 2 = {i**2}')"
   ]
  },
  {
   "cell_type": "code",
   "execution_count": null,
   "metadata": {},
   "outputs": [],
   "source": []
  }
 ],
 "metadata": {
  "kernelspec": {
   "display_name": "analytics",
   "language": "python",
   "name": "python3"
  },
  "language_info": {
   "codemirror_mode": {
    "name": "ipython",
    "version": 3
   },
   "file_extension": ".py",
   "mimetype": "text/x-python",
   "name": "python",
   "nbconvert_exporter": "python",
   "pygments_lexer": "ipython3",
   "version": "3.11.5"
  }
 },
 "nbformat": 4,
 "nbformat_minor": 2
}
