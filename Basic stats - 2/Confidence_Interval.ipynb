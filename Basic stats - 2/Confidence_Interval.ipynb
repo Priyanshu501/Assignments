{
 "cells": [
  {
   "cell_type": "code",
   "execution_count": 1,
   "metadata": {},
   "outputs": [],
   "source": [
    "import warnings\n",
    "warnings.filterwarnings('ignore')\n",
    "import numpy as np"
   ]
  },
  {
   "cell_type": "markdown",
   "metadata": {},
   "source": [
    "# Estimation and Confidence Intervals\n",
    "\n",
    "## Background\n",
    "\n",
    "In quality control processes, especially when dealing with high-value items, destructive sampling is a necessary but costly method to ensure product quality. The test to determine whether an item meets the quality standards destroys the item, leading to the requirement of small sample sizes due to cost constraints."
   ]
  },
  {
   "cell_type": "markdown",
   "metadata": {},
   "source": [
    "## Scenario\n",
    "\n",
    "In quality control processes, especially when dealing with high-value items, destructive sampling is a necessary but costly method to ensure product quality. The test to determine whether an item meets the quality standards destroys the item, leading to the requirement of small sample sizes due to cost constraints."
   ]
  },
  {
   "cell_type": "markdown",
   "metadata": {},
   "source": [
    "## Data\n",
    "\n",
    "A total of 15 print-heads were randomly selected and tested until failure. The durability of each print-head (in millions of characters) was recorded as follows:\n",
    "1.13, 1.55, 1.43, 0.92, 1.25, 1.36, 1.32, 0.85, 1.07, 1.48, 1.20, 1.33, 1.18, 1.22, 1.29\n"
   ]
  },
  {
   "cell_type": "code",
   "execution_count": 2,
   "metadata": {},
   "outputs": [],
   "source": [
    "data = [1.13, 1.55, 1.43, 0.92, 1.25, 1.36, 1.32, 0.85, 1.07, 1.48, 1.20, 1.33, 1.18, 1.22, 1.29]"
   ]
  },
  {
   "cell_type": "markdown",
   "metadata": {},
   "source": [
    "## Assignment Tasks\n",
    "\n",
    "#### a. Build 99% Confidence Interval Using Sample Standard Deviation\n",
    "\n",
    "Assuming the sample is representative of the population, construct a 99% confidence interval for the mean number of characters printed before the print-head fails using the sample standard deviation. Explain the steps you take and the rationale behind using the t-distribution for this task."
   ]
  },
  {
   "cell_type": "markdown",
   "metadata": {},
   "source": [
    "#### Solution\n",
    "\n",
    "##### Step 1: Calculate the sample mean. "
   ]
  },
  {
   "cell_type": "code",
   "execution_count": 3,
   "metadata": {},
   "outputs": [
    {
     "name": "stdout",
     "output_type": "stream",
     "text": [
      "Sample Mean: 1.2386666666666666\n"
     ]
    }
   ],
   "source": [
    "sample_mean = np.mean(data)\n",
    "print(f\"Sample Mean: {sample_mean}\")"
   ]
  },
  {
   "cell_type": "markdown",
   "metadata": {},
   "source": [
    "Step 2: Calculate Sample standard deviation from the given data."
   ]
  },
  {
   "cell_type": "code",
   "execution_count": 4,
   "metadata": {},
   "outputs": [
    {
     "name": "stdout",
     "output_type": "stream",
     "text": [
      "Sample Standard Deviation: 0.19316412956959936\n"
     ]
    }
   ],
   "source": [
    "sample_std = np.std(data, ddof=1)\n",
    "print(f'Sample Standard Deviation: {sample_std}')"
   ]
  },
  {
   "cell_type": "markdown",
   "metadata": {},
   "source": [
    "Step 3: Calculate Degrees of Freedom:"
   ]
  },
  {
   "cell_type": "code",
   "execution_count": 5,
   "metadata": {},
   "outputs": [
    {
     "name": "stdout",
     "output_type": "stream",
     "text": [
      "Degrees of Freedom: 14\n"
     ]
    }
   ],
   "source": [
    "n = len(data)\n",
    "df = n-1\n",
    "print(f'Degrees of Freedom: {df}')"
   ]
  },
  {
   "cell_type": "markdown",
   "metadata": {},
   "source": [
    "Step 4: Calculate t-score for 99% confidence Interval."
   ]
  },
  {
   "cell_type": "code",
   "execution_count": 6,
   "metadata": {},
   "outputs": [],
   "source": [
    "from scipy.stats import t"
   ]
  },
  {
   "cell_type": "code",
   "execution_count": 7,
   "metadata": {},
   "outputs": [
    {
     "name": "stdout",
     "output_type": "stream",
     "text": [
      "T-Score: 2.97684273411266\n"
     ]
    }
   ],
   "source": [
    "t_score = t.ppf(0.995, df) # two-tailed test\n",
    "print(f'T-Score: {t_score}')"
   ]
  },
  {
   "cell_type": "markdown",
   "metadata": {},
   "source": [
    "Step 5: Calculate the margin of error:"
   ]
  },
  {
   "cell_type": "code",
   "execution_count": 8,
   "metadata": {},
   "outputs": [
    {
     "name": "stdout",
     "output_type": "stream",
     "text": [
      "Margin of Error: 0.1484693282152996\n"
     ]
    }
   ],
   "source": [
    "margin_error = t_score * (sample_std / np.sqrt(n))\n",
    "print(f'Margin of Error: {margin_error}')"
   ]
  },
  {
   "cell_type": "markdown",
   "metadata": {},
   "source": [
    "Step 6: Calculate the confidence interval:"
   ]
  },
  {
   "cell_type": "code",
   "execution_count": 9,
   "metadata": {},
   "outputs": [
    {
     "name": "stdout",
     "output_type": "stream",
     "text": [
      "Confidence Interval: (1.090197338451367, 1.3871359948819662)\n"
     ]
    }
   ],
   "source": [
    "confidence_interval = (sample_mean - margin_error, sample_mean + margin_error)\n",
    "print(f'Confidence Interval: {confidence_interval}')"
   ]
  },
  {
   "cell_type": "markdown",
   "metadata": {},
   "source": [
    "So, the 99% confidence interval for the mean number of characters printed before failure using the sample standard deviation is approximately 1.090 to 1.387 million characters.\n",
    "\n",
    "Rationale for using the t-distribution:\n",
    "\n",
    "We use the t-distribution because the population standard deviation is unknown, and the sample size is small (less than 30). The t-distribution accounts for the additional uncertainty introduced by using the sample standard deviation instead of the population standard deviation."
   ]
  },
  {
   "cell_type": "markdown",
   "metadata": {},
   "source": [
    "#### b. Build 99% Confidence Interval Using Known Population Standard Deviation\n",
    "\n",
    "If it were known that the population standard deviation is 0.2 million characters, construct a 99% confidence interval for the mean number of characters printed before failure.\n"
   ]
  },
  {
   "cell_type": "markdown",
   "metadata": {},
   "source": [
    "#### Solution:\n",
    "\n",
    "When the population standard deviation is known, we use the z-distribution instead of the t-distribution because we don't need to estimate the standard error."
   ]
  },
  {
   "cell_type": "code",
   "execution_count": 10,
   "metadata": {},
   "outputs": [
    {
     "name": "stdout",
     "output_type": "stream",
     "text": [
      "Population Standard Deviation is Given: 0.2\n"
     ]
    }
   ],
   "source": [
    "population_std = 0.2 # in millions\n",
    "print(f'Population Standard Deviation is Given: {population_std}')"
   ]
  },
  {
   "cell_type": "markdown",
   "metadata": {},
   "source": [
    "Z_Score at 99% confidence interval:"
   ]
  },
  {
   "cell_type": "code",
   "execution_count": 11,
   "metadata": {},
   "outputs": [
    {
     "name": "stdout",
     "output_type": "stream",
     "text": [
      "Z-Score: 2.576\n"
     ]
    }
   ],
   "source": [
    "z_score = 2.576 # for a two-tailed test\n",
    "print(f'Z-Score: {z_score}')"
   ]
  },
  {
   "cell_type": "markdown",
   "metadata": {},
   "source": [
    "Calculate Margin of Error:"
   ]
  },
  {
   "cell_type": "code",
   "execution_count": 12,
   "metadata": {},
   "outputs": [
    {
     "name": "stdout",
     "output_type": "stream",
     "text": [
      "Margin of Error: 0.13302406799773742\n"
     ]
    }
   ],
   "source": [
    "margin_error_b = z_score * (population_std / np.sqrt(n))\n",
    "print(f'Margin of Error: {margin_error_b}')"
   ]
  },
  {
   "cell_type": "markdown",
   "metadata": {},
   "source": [
    "Calculate Confidence Interval:"
   ]
  },
  {
   "cell_type": "code",
   "execution_count": 13,
   "metadata": {},
   "outputs": [
    {
     "name": "stdout",
     "output_type": "stream",
     "text": [
      "Confidence Interval: (1.105642598668929, 1.371690734664404)\n"
     ]
    }
   ],
   "source": [
    "confidence_interval_b = (sample_mean - margin_error_b, sample_mean + margin_error_b)\n",
    "print(f\"Confidence Interval: {confidence_interval_b}\")"
   ]
  },
  {
   "cell_type": "markdown",
   "metadata": {},
   "source": [
    "So, the 99% confidence interval for the mean number of characters printed before failure using the known population standard deviation is approximately 1.105 to 1.371 million characters."
   ]
  }
 ],
 "metadata": {
  "kernelspec": {
   "display_name": "analytics",
   "language": "python",
   "name": "python3"
  },
  "language_info": {
   "codemirror_mode": {
    "name": "ipython",
    "version": 3
   },
   "file_extension": ".py",
   "mimetype": "text/x-python",
   "name": "python",
   "nbconvert_exporter": "python",
   "pygments_lexer": "ipython3",
   "version": "3.11.5"
  }
 },
 "nbformat": 4,
 "nbformat_minor": 2
}
